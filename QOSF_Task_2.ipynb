{
  "nbformat": 4,
  "nbformat_minor": 0,
  "metadata": {
    "colab": {
      "provenance": []
    },
    "kernelspec": {
      "name": "python3",
      "display_name": "Python 3"
    },
    "language_info": {
      "name": "python"
    }
  },
  "cells": [
    {
      "cell_type": "markdown",
      "source": [
        "\n",
        "\n",
        "# **Quantum State Preparation**\n",
        "\n",
        "This notebook implements a routine to prepare n-qubit quantum states from a given set of complex amplitudes.\n",
        "\n",
        "Key features:\n",
        "- Supports any number of qubits, as long as the input vector length is a power of two ($2^n$).\n",
        "- Automatically normalizes the input amplitudes to enforce the quantum state condition. $$\n",
        "\\sum_{i=1}^{2^n} |a_i|^2 = 1\n",
        "$$\n",
        "- Provides visualization of amplitude magnitudes and phases.\n",
        "- Includes inline tests to verify normalization, vector length, and error handling."
      ],
      "metadata": {
        "id": "wGcYLfwTaUuH"
      }
    },
    {
      "cell_type": "code",
      "execution_count": 15,
      "metadata": {
        "id": "Z3k8u_IFlI9i"
      },
      "outputs": [],
      "source": [
        "import numpy as np\n",
        "import math\n",
        "import matplotlib.pyplot as plt"
      ]
    },
    {
      "cell_type": "markdown",
      "source": [
        "# get_num_qubits(length)\n",
        "\n",
        "Given the length of the amplitude vector, this function:\n",
        "- Checks that the length is a power of two.\n",
        "- Returns the corresponding number of qubits n, since a state vector of length $2^n$ represents n qubits.\n",
        "- Raises a ValueError if the length is not a power of two.\n",
        "\n",
        "Example:\n",
        "- length = 4 → n = 2 qubits\n",
        "- length = 8 → n = 3 qubits\n"
      ],
      "metadata": {
        "id": "RhcTq8aRcjnr"
      }
    },
    {
      "cell_type": "code",
      "source": [
        "def get_num_qubits(length: int) -> int:\n",
        "\n",
        "    if length <= 0 or (length & (length - 1)) != 0:\n",
        "        raise ValueError(f\"Length {length} is not a power of two (expected 2^n).\")\n",
        "    return int(math.log2(length))"
      ],
      "metadata": {
        "id": "LOhljrEWTa_u"
      },
      "execution_count": 21,
      "outputs": []
    },
    {
      "cell_type": "markdown",
      "source": [
        "# prepare_quantum_state(amplitudes, normalize=True)\n",
        "\n",
        "This is the core function for preparing the quantum state |ψ⟩.\n",
        "\n",
        "Input:\n",
        "- amplitudes: list or 1D numpy array of complex numbers $\\mathbf{a} = [a_0, a_1, \\dots, a_{2^n - 1}]$\n",
        "\n",
        "- normalize (bool, default=True):\n",
        "  - If True, automatically scales the amplitudes to ensure the vector has unit norm.\n",
        "  - If False, raises an error if the amplitudes are not already normalized.\n",
        "\n",
        "Steps:\n",
        "1. Converts the input to a NumPy complex array.\n",
        "2. Checks that it is 1D and non-empty.\n",
        "3. Uses `get_num_qubits` to verify that the length is a power of two and compute n.\n",
        "4. Computes the vector norm ||ψ||.\n",
        "5. Normalizes if needed or checks for errors in strict mode.\n",
        "\n",
        "Output:\n",
        "- A normalized 1D NumPy array representing the n-qubit quantum state |ψ⟩.\n"
      ],
      "metadata": {
        "id": "uw0yfVGodF6h"
      }
    },
    {
      "cell_type": "code",
      "source": [
        "def prepare_quantum_state(amplitudes, normalize=True):\n",
        "\n",
        "    amps = np.array(amplitudes, dtype=np.complex128)\n",
        "\n",
        "    # Ensure input is a 1D vector\n",
        "    if amps.ndim != 1:\n",
        "        raise ValueError(\"Amplitudes must be a 1D sequence/vector.\")\n",
        "    if amps.size == 0:\n",
        "        raise ValueError(\"Amplitude vector must be non-empty.\")\n",
        "\n",
        "    # Validate dimension (must be 2^n)\n",
        "    n_qubits = get_num_qubits(amps.size)\n",
        "\n",
        "    # Compute norm\n",
        "    norm = np.linalg.norm(amps)\n",
        "    if norm == 0:\n",
        "        raise ValueError(\"Amplitude vector has zero norm and cannot be normalized.\")\n",
        "\n",
        "    # Handle normalization or validation\n",
        "    if normalize:\n",
        "        if not np.isclose(norm, 1.0):\n",
        "            amps = amps / norm\n",
        "    else:\n",
        "        # strict mode: check normalization\n",
        "        if not np.isclose(norm, 1.0):\n",
        "            raise ValueError(\n",
        "                f\"State not normalized (norm={norm:.6f}), but normalize=False was set.\"\n",
        "            )\n",
        "\n",
        "    return amps"
      ],
      "metadata": {
        "id": "GdnSme4bTdbE"
      },
      "execution_count": 22,
      "outputs": []
    },
    {
      "cell_type": "markdown",
      "source": [
        "# visualize_state(state)\n",
        "\n",
        "This function plots:\n",
        "- Magnitude of each amplitude as a blue bar.\n",
        "- Phase of each amplitude as a text overlay above the bars (in radians).\n",
        "\n",
        "Purpose:\n",
        "- Gives a clear visual representation of the quantum state.\n",
        "- Useful for checking which basis states have nonzero probability amplitudes and their relative phases.\n",
        "\n",
        "Example:\n",
        "For a 2-qubit state |ψ⟩ = [0.5, 0.5j, 0, 0.5]:\n",
        "- Magnitudes = [0.5, 0.5, 0, 0.5]\n",
        "- Phases = [0, π/2, 0, 0]\n"
      ],
      "metadata": {
        "id": "rv246KPoeoEb"
      }
    },
    {
      "cell_type": "code",
      "source": [
        "def visualize_state(state):\n",
        "    \"\"\"\n",
        "    Plot magnitude and phase of a quantum state vector.\n",
        "    \"\"\"\n",
        "    state = np.array(state)\n",
        "    n = len(state)\n",
        "    x = np.arange(n)\n",
        "    magnitudes = np.abs(state)\n",
        "    phases = np.angle(state)\n",
        "\n",
        "    fig, ax1 = plt.subplots(figsize=(7,4))\n",
        "    ax1.bar(x, magnitudes, color=\"royalblue\", alpha=0.7, label=\"|amplitude|\")\n",
        "    ax1.set_ylabel(\"Magnitude\")\n",
        "    ax1.set_xlabel(\"Basis state index\")\n",
        "    ax1.set_xticks(x)\n",
        "    ax1.set_title(\"Quantum State Visualization (Magnitude + Phase)\")\n",
        "\n",
        "    # Add phase overlay as text\n",
        "    for i, (mag, phase) in enumerate(zip(magnitudes, phases)):\n",
        "        ax1.text(i, mag + 0.02, f\"∠{phase:.2f}\", ha=\"center\", fontsize=8, color=\"darkgreen\")\n",
        "    plt.show()"
      ],
      "metadata": {
        "id": "ml1p8MWeVcXs"
      },
      "execution_count": 23,
      "outputs": []
    },
    {
      "cell_type": "markdown",
      "source": [
        "# Demonstration: Preparing and Visualizing a Two-Qubit Quantum State\n",
        "\n",
        "In this demonstration, we show how to prepare a two-qubit quantum state from a set of complex amplitudes and visualize its properties.\n",
        "\n",
        "## Steps:\n",
        "\n",
        "1. **Define amplitudes**  \n",
        "   We provide a list of four complex numbers `[a0, a1, a2, a3]` representing the state:\n",
        "   $\n",
        "   |\\psi\\rangle = a_0|00\\rangle + a_1|01\\rangle + a_2|10\\rangle + a_3|11\\rangle\n",
        "   $\n",
        "\n",
        "2. **Prepare the quantum state**  \n",
        "   We call `prepare_quantum_state(amplitudes)` which:\n",
        "   - Converts the input to a NumPy array.\n",
        "   - Checks that the length is a power of two (valid for 2 qubits).\n",
        "   - Normalizes the vector so that $\\sum_i |a_i|^2 = 1$.\n",
        "\n",
        "3. **Print state information**\n",
        "   - The full normalized state vector |ψ⟩.\n",
        "   - The norm of the state (should be 1).\n",
        "   - The number of qubits.\n",
        "\n",
        "4. **Visualize the state**\n",
        "   We use `visualize_state(psi)` to display:\n",
        "   - Magnitudes of each amplitude as blue bars.\n",
        "   - Phase of each amplitude (in radians) as text labels above the bars.\n",
        "\n",
        "This provides a clear and intuitive representation of the quantum state in both magnitude and phase.\n"
      ],
      "metadata": {
        "id": "fWhhotSCgHSI"
      }
    },
    {
      "cell_type": "code",
      "source": [
        "amps = [1+0j, 1j, 0, 1]  # Example 2-qubit state\n",
        "psi = prepare_quantum_state(amps)\n",
        "print(\"Prepared state |ψ⟩:\", psi)\n",
        "print(\"Norm:\", np.linalg.norm(psi))\n",
        "print(\"Number of qubits:\", get_num_qubits(len(psi)))\n",
        "visualize_state(psi)\n"
      ],
      "metadata": {
        "colab": {
          "base_uri": "https://localhost:8080/",
          "height": 479
        },
        "id": "mbw_0XASW-xO",
        "outputId": "dcebae19-80c9-495a-f18b-532abbd58921"
      },
      "execution_count": 24,
      "outputs": [
        {
          "output_type": "stream",
          "name": "stdout",
          "text": [
            "Prepared state |ψ⟩: [0.57735027+0.j         0.        +0.57735027j 0.        +0.j\n",
            " 0.57735027+0.j        ]\n",
            "Norm: 1.0\n",
            "Number of qubits: 2\n"
          ]
        },
        {
          "output_type": "display_data",
          "data": {
            "text/plain": [
              "<Figure size 700x400 with 1 Axes>"
            ],
            "image/png": "[encoded data removed]"
          },
          "metadata": {}
        }
      ]
    },
    {
      "cell_type": "markdown",
      "source": [
        "# Inline Test Cases\n",
        "\n",
        "The notebook includes verbose tests that:\n",
        "- Print the input amplitudes.\n",
        "- Show the resulting normalized state vector |ψ⟩.\n",
        "- Verify the vector norm is 1.\n",
        "- Check that the vector length corresponds to the correct number of qubits.\n",
        "- Handle expected errors for:\n",
        "  - Zero-length vector\n",
        "  - Zero-norm vector\n",
        "  - Non-power-of-two length\n",
        "  - Non-normalized input with normalize=False\n",
        "\n",
        "Purpose:\n",
        "- Ensures correctness and makes it clear to anyone evaluating the notebook that the code works as intended.\n"
      ],
      "metadata": {
        "id": "L9ajJc_ofai2"
      }
    },
    {
      "cell_type": "code",
      "source": [
        "def run_tests_verbose():\n",
        "    print(\"\\nRunning tests with detailed input/output...\\n\")\n",
        "\n",
        "    # Test 1: Two-qubit normalization\n",
        "    amps = [1, 1j, 0, 1]\n",
        "    print(\"Test 1: Two-qubit normalization\")\n",
        "    print(\"Input amplitudes:\", amps)\n",
        "    psi = prepare_quantum_state(amps)\n",
        "    print(\"Normalized state |ψ⟩:\", psi)\n",
        "    print(\"Norm:\", np.linalg.norm(psi))\n",
        "    print(\"Number of qubits:\", get_num_qubits(len(psi)))\n",
        "    print(\"-\"*50)\n",
        "\n",
        "    # Test 2: General 3-qubit state\n",
        "    amps = np.arange(8) + 1j*np.arange(8)\n",
        "    print(\"Test 2: General 3-qubit state\")\n",
        "    print(\"Input amplitudes:\", amps)\n",
        "    psi = prepare_quantum_state(amps)\n",
        "    print(\"Normalized state |ψ⟩:\", psi)\n",
        "    print(\"Norm:\", np.linalg.norm(psi))\n",
        "    print(\"Number of qubits:\", get_num_qubits(len(psi)))\n",
        "    print(\"-\"*50)\n",
        "\n",
        "    # Test 3: normalize=False with valid state\n",
        "    amps = [1/np.sqrt(2), 1/np.sqrt(2)]\n",
        "    print(\"Test 3: normalize=False with already normalized state\")\n",
        "    print(\"Input amplitudes:\", amps)\n",
        "    psi = prepare_quantum_state(amps, normalize=False)\n",
        "    print(\"State |ψ⟩:\", psi)\n",
        "    print(\"Norm:\", np.linalg.norm(psi))\n",
        "    print(\"-\"*50)\n",
        "\n",
        "    # Test 4: normalize=False with invalid state (expect error)\n",
        "    amps = [2, 0]\n",
        "    print(\"Test 4: normalize=False with unnormalized input (expect error)\")\n",
        "    print(\"Input amplitudes:\", amps)\n",
        "    try:\n",
        "        psi = prepare_quantum_state(amps, normalize=False)\n",
        "        print(\"ERROR: This should have raised a ValueError!\")\n",
        "    except ValueError as e:\n",
        "        print(\"Caught expected ValueError:\", e)\n",
        "    print(\"-\"*50)\n",
        "\n",
        "    # Test 5: Invalid length input\n",
        "    amps = [1, 0, 0]\n",
        "    print(\"Test 5: Invalid length (not power of two)\")\n",
        "    print(\"Input amplitudes:\", amps)\n",
        "    try:\n",
        "        psi = prepare_quantum_state(amps)\n",
        "        print(\"ERROR: This should have raised a ValueError!\")\n",
        "    except ValueError as e:\n",
        "        print(\"Caught expected ValueError:\", e)\n",
        "    print(\"-\"*50)\n",
        "\n",
        "    # Test 6: Zero vector input\n",
        "    amps = [0, 0, 0, 0]\n",
        "    print(\"Test 6: Zero vector input\")\n",
        "    print(\"Input amplitudes:\", amps)\n",
        "    try:\n",
        "        psi = prepare_quantum_state(amps)\n",
        "        print(\"ERROR: This should have raised a ValueError!\")\n",
        "    except ValueError as e:\n",
        "        print(\"Caught expected ValueError:\", e)\n",
        "    print(\"-\"*50)\n",
        "\n",
        "    print(\"✅ All tests completed with input/output verification.\\n\")\n",
        "\n",
        "# Run verbose tests\n",
        "run_tests_verbose()"
      ],
      "metadata": {
        "colab": {
          "base_uri": "https://localhost:8080/"
        },
        "id": "4VU7DAcdXCiD",
        "outputId": "e3d09876-d69f-4088-f0f0-1e360c71b194"
      },
      "execution_count": 25,
      "outputs": [
        {
          "output_type": "stream",
          "name": "stdout",
          "text": [
            "\n",
            "Running tests with detailed input/output...\n",
            "\n",
            "Test 1: Two-qubit normalization\n",
            "Input amplitudes: [1, 1j, 0, 1]\n",
            "Normalized state |ψ⟩: [0.57735027+0.j         0.        +0.57735027j 0.        +0.j\n",
            " 0.57735027+0.j        ]\n",
            "Norm: 1.0\n",
            "Number of qubits: 2\n",
            "--------------------------------------------------\n",
            "Test 2: General 3-qubit state\n",
            "Input amplitudes: [0.+0.j 1.+1.j 2.+2.j 3.+3.j 4.+4.j 5.+5.j 6.+6.j 7.+7.j]\n",
            "Normalized state |ψ⟩: [0.        +0.j         0.05976143+0.05976143j 0.11952286+0.11952286j\n",
            " 0.17928429+0.17928429j 0.23904572+0.23904572j 0.29880715+0.29880715j\n",
            " 0.35856858+0.35856858j 0.41833001+0.41833001j]\n",
            "Norm: 1.0\n",
            "Number of qubits: 3\n",
            "--------------------------------------------------\n",
            "Test 3: normalize=False with already normalized state\n",
            "Input amplitudes: [np.float64(0.7071067811865475), np.float64(0.7071067811865475)]\n",
            "State |ψ⟩: [0.70710678+0.j 0.70710678+0.j]\n",
            "Norm: 0.9999999999999999\n",
            "--------------------------------------------------\n",
            "Test 4: normalize=False with unnormalized input (expect error)\n",
            "Input amplitudes: [2, 0]\n",
            "Caught expected ValueError: State not normalized (norm=2.000000), but normalize=False was set.\n",
            "--------------------------------------------------\n",
            "Test 5: Invalid length (not power of two)\n",
            "Input amplitudes: [1, 0, 0]\n",
            "Caught expected ValueError: Length 3 is not a power of two (expected 2^n).\n",
            "--------------------------------------------------\n",
            "Test 6: Zero vector input\n",
            "Input amplitudes: [0, 0, 0, 0]\n",
            "Caught expected ValueError: Amplitude vector has zero norm and cannot be normalized.\n",
            "--------------------------------------------------\n",
            "✅ All tests completed with input/output verification.\n",
            "\n"
          ]
        }
      ]
    }
  ]
}